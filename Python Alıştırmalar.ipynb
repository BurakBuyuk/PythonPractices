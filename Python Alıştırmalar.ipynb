{
 "cells": [
  {
   "cell_type": "code",
   "execution_count": 1,
   "id": "8b258a67-181f-4f9b-823b-82651d97c796",
   "metadata": {},
   "outputs": [],
   "source": [
    "# Görev 1 : Verilen değerlerin veri yapılarını inceleyiniz."
   ]
  },
  {
   "cell_type": "code",
   "execution_count": 2,
   "id": "c4772b82-cf3c-41e5-8e48-89fc02ddcbae",
   "metadata": {},
   "outputs": [],
   "source": [
    "x = 8\n",
    "y = 3.2\n",
    "z = 8j + 18\n",
    "a = \"Hello World\"\n",
    "b = True\n",
    "c = 23 < 22\n",
    "l = [1,2,3,4]\n",
    "d = {\"Name\": \"Jake\",\n",
    "    \"Age\": 27,\n",
    "    \"Adress\":\"Downtown\"}\n",
    "t = {\"Machine Learning\" , \"Data Science\"}\n",
    "s = {\"Python\",\"Machine Learning\",\"Data Science\"}"
   ]
  },
  {
   "cell_type": "code",
   "execution_count": 4,
   "id": "13036796-57b9-42b3-a546-b018065cce6d",
   "metadata": {},
   "outputs": [
    {
     "name": "stdout",
     "output_type": "stream",
     "text": [
      "x veri tipi: <class 'int'> y veri tipi: <class 'float'> z veri tipi: <class 'complex'> a veri tipi: <class 'str'> b veri tipi: <class 'bool'> c veri tipi: <class 'bool'> l veri tipi: <class 'list'> d veri tipi: <class 'dict'> t veri tipi: <class 'set'>\n"
     ]
    }
   ],
   "source": [
    "print(\"x veri tipi:\", type(x),\n",
    "     \"y veri tipi:\", type(y),\n",
    "     \"z veri tipi:\", type(z),\n",
    "     \"a veri tipi:\", type(a),\n",
    "     \"b veri tipi:\", type(b),\n",
    "     \"c veri tipi:\", type(c),\n",
    "     \"l veri tipi:\", type(l),\n",
    "     \"d veri tipi:\", type(d),\n",
    "     \"t veri tipi:\", type(t),\n",
    "     )\n"
   ]
  },
  {
   "cell_type": "code",
   "execution_count": 6,
   "id": "149b435f-7a44-43b0-9b31-b5d41eb7dcf6",
   "metadata": {},
   "outputs": [],
   "source": [
    "# Görev 2: Verilen string ifadenin tüm harflerini büyük harfe çeviriniz.Virgül ve nokta yerine space koyunuz,\n",
    "# kelime kelime ayırınız.\n",
    "\n",
    "text = \"The goal is to turn data into information, and information into insight.\"\n",
    "\n"
   ]
  },
  {
   "cell_type": "code",
   "execution_count": 8,
   "id": "b07ab336-06e2-48d7-ab96-6c525b5aafbe",
   "metadata": {},
   "outputs": [
    {
     "data": {
      "text/plain": [
       "['THE',\n",
       " 'GOAL',\n",
       " 'IS',\n",
       " 'TO',\n",
       " 'TURN',\n",
       " 'DATA',\n",
       " 'INTO',\n",
       " 'INFORMATION,',\n",
       " 'AND',\n",
       " 'INFORMATION',\n",
       " 'INTO',\n",
       " 'INSIGHT.']"
      ]
     },
     "execution_count": 8,
     "metadata": {},
     "output_type": "execute_result"
    }
   ],
   "source": [
    "A = text.upper().split()\n",
    "A"
   ]
  },
  {
   "cell_type": "code",
   "execution_count": 14,
   "id": "54e69088-6845-49e0-b213-3011c43f0e09",
   "metadata": {},
   "outputs": [
    {
     "data": {
      "text/plain": [
       "['D', 'A', 'T', 'A', 'S', 'C', 'I', 'E', 'N', 'C', 'E', 'N']"
      ]
     },
     "execution_count": 14,
     "metadata": {},
     "output_type": "execute_result"
    }
   ],
   "source": [
    "# Görev 3: Verilen listeye aşağıdaki adımları uygulayınız.\n",
    "lst = [\"D\",\"A\",\"T\",\"A\",\"S\",\"C\",\"I\",\"E\",\"N\",\"C\",\"E\"]\n",
    "\n",
    "# Adım 1 : Verilen listenin eleman sayısına bakınız.\n",
    "len(lst)\n",
    "# Adım 2 : Sıfırıncı ve onuncu indeksteki elemanları çağırınız.\n",
    "lst[0],lst[10]\n",
    "# Adım 3 : Verilen liste üzerinden [\"D\",\"A\",\"T\",\"A\"] listesi oluşturunuz.\n",
    "lst[:4]\n",
    "# Adım 4 : Sekizinci indekteki elemanı siliniz.\n",
    "lst.pop(8)\n",
    "#lst.remove(8)\n",
    "lst\n",
    "## pop ve remove farkı :pop(): Belirtilen indeksdeki elemanı listeden siler ve o elemanı döndürür. İndeks verilmezse, son elemanı siler.\n",
    "\n",
    "# remove(): Listede belirtilen ilk değeri siler. Değer üzerinden işlem yapar, geri döndürme yapmaz\n",
    "# Adım 5 : Yeni bir eleman ekleyiniz.\n",
    "lst.append(\"N\")\n",
    "lst\n",
    "# Adım 6 : Sekizinci indekse \"N\" elemanını tekrar ekleyiniz.\n",
    "lst.insert(8, \"N\")\n",
    "lst\n",
    "## append ve insert farkı : append(): Listenin sonuna eleman ekler.insert(): Belirtilen indeks pozisyonuna eleman ekle"
   ]
  },
  {
   "cell_type": "code",
   "execution_count": 12,
   "id": "7723736c-ec9e-47a3-aa6d-bb8074dc3ddb",
   "metadata": {},
   "outputs": [
    {
     "name": "stdout",
     "output_type": "stream",
     "text": [
      "{'Christan': ['America', 18], 'Daisy': ['England', 13], 'Dante': ['Italy', 25], 'Ahmet': ['Turkey', 24]}\n"
     ]
    }
   ],
   "source": [
    "# Görev 4 : Verilen sözlük yapısına aşağıdaki adımları uygulayınız.\n",
    "dict = {\"Christan\" : [\"America\",18],\n",
    "       \"Daisy\":[\"England\",12],\n",
    "       \"Antonio\":[\"Spain\",22],\n",
    "       \"Dante\":[\"Italy\",25]}\n",
    "# Adım 1: Key değerlerine erişiniz.\n",
    "dict.keys()\n",
    "# Adım 2: Value'lara erişiniz.\n",
    "dict.values()\n",
    "# Adım 3: Daisy key'ine ait 12 değerini 13 olarak güncelleyiniz.\n",
    "dict[\"Daisy\"][1] = 13\n",
    "dict.values()\n",
    "# Adım 4: Key değeri Ahmet value değeri [Turkey,24] olan yeni bir değer ekleyiniz.\n",
    "dict[\"Ahmet\"] = [\"Turkey\",24]\n",
    "# Adım 5: Antonio'yu dictionary'den siliniz.\n",
    "# del dict['Antonio']\n",
    "dict.pop('Antonio')\n",
    "print(dict)"
   ]
  },
  {
   "cell_type": "code",
   "execution_count": 19,
   "id": "18c2c593-7313-4788-bc2f-bc1c6ab300df",
   "metadata": {},
   "outputs": [],
   "source": [
    "# Görev 5:Argüman olarak bir liste alan, listenin içerisindeki tek ve çift sayıları \n",
    "#ayrı listelere atayan ve bu listeleri return eden fonksiyon yazınız."
   ]
  },
  {
   "cell_type": "code",
   "execution_count": 21,
   "id": "0d02c533-518b-4de5-949b-5e9d2821efd3",
   "metadata": {},
   "outputs": [
    {
     "name": "stdout",
     "output_type": "stream",
     "text": [
      "Çift sayılar: [2, 18, 22]\n",
      "Tek sayılar: [13, 93]\n"
     ]
    }
   ],
   "source": [
    "def func(l):\n",
    "    even_list = []\n",
    "    odd_list = []\n",
    "\n",
    "    for number in l:\n",
    "        if number % 2 == 0:\n",
    "            even_list.append(number)\n",
    "        else:\n",
    "            odd_list.append(number)\n",
    "\n",
    "    return even_list, odd_list\n",
    "\n",
    "l = [2, 13, 18, 93, 22]\n",
    "even_list, odd_list = func(l)\n",
    "\n",
    "print(\"Çift sayılar:\", even_list)\n",
    "print(\"Tek sayılar:\", odd_list)\n"
   ]
  },
  {
   "cell_type": "code",
   "execution_count": 23,
   "id": "99d93aa9-a22e-4cd3-a19f-71680369d14d",
   "metadata": {},
   "outputs": [],
   "source": [
    "#  Görev 6: Aşağıda verilen listede mühendislik ve tıp fakültelerinde dereceye giren \n",
    "# öğrencilerin isimleri bulunmaktadır. Sırasıyla ilk üç öğrenci mühendislik fakültesinin \n",
    "# başarı sırasını temsil ederken, son üç öğrenci de tıp fakültesi öğrenci sırasına aittir. \n",
    "# Bu listeyi kullanarak öğrencilerin derecelerini fakülte özelinde yazdırınız."
   ]
  },
  {
   "cell_type": "code",
   "execution_count": 25,
   "id": "c2071333-642a-42f3-81cf-5544ce329372",
   "metadata": {},
   "outputs": [],
   "source": [
    "ogrenciler = [\"Ali\",\"Veli\",\"Ayşe\",\"Talat\",\"Zeynep\",\"Ece\"]"
   ]
  },
  {
   "cell_type": "code",
   "execution_count": 27,
   "id": "c8ced123-b579-4535-ac6e-53a75efa52e6",
   "metadata": {},
   "outputs": [
    {
     "name": "stdout",
     "output_type": "stream",
     "text": [
      "Mühendislik Fakültesi:\n",
      "1. Ali\n",
      "2. Veli\n",
      "3. Ayşe\n",
      "\n",
      "Tıp Fakültesi:\n",
      "1. Talat\n",
      "2. Zeynep\n",
      "3. Ece\n"
     ]
    }
   ],
   "source": [
    "# Mühendislik fakültesi öğrencileri (ilk üç)\n",
    "muhendislik_fakultesi = ogrenciler[:3]\n",
    "\n",
    "# Tıp fakültesi öğrencileri (son üç)\n",
    "tip_fakultesi = ogrenciler[3:]\n",
    "\n",
    "# Mühendislik fakültesi öğrencilerini dereceleriyle yazdırma\n",
    "print(\"Mühendislik Fakültesi:\")\n",
    "for i, ogrenci in enumerate(muhendislik_fakultesi, 1):\n",
    "    print(f\"{i}. {ogrenci}\")\n",
    "\n",
    "# Tıp fakültesi öğrencilerini dereceleriyle yazdırma\n",
    "print(\"\\nTıp Fakültesi:\")\n",
    "for i, ogrenci in enumerate(tip_fakultesi, 1):\n",
    "    print(f\"{i}. {ogrenci}\")\n"
   ]
  },
  {
   "cell_type": "code",
   "execution_count": 29,
   "id": "9bf69c2a-fb60-4f0b-af8e-4e5032626fcc",
   "metadata": {},
   "outputs": [],
   "source": [
    "# Görev 7: Aşağıda 3 adet liste verilmiştir. Listelerde sırasıyla bir dersin kodu, \n",
    "#kredisi ve kontenjan bilgileri yer almaktadır.Zip kullanarak ders bilgilerini bastırınız."
   ]
  },
  {
   "cell_type": "code",
   "execution_count": 31,
   "id": "56e1d381-29bb-49b9-bd24-adae178c21d9",
   "metadata": {},
   "outputs": [],
   "source": [
    "ders_kodu = [\"CMP1005\",\"PSY1001\",\"HUK1005\",\"SEN2204\"]\n",
    "kredi = [3,4,2,4]\n",
    "kontenjan = [30,75,150,25]"
   ]
  },
  {
   "cell_type": "code",
   "execution_count": 33,
   "id": "45209596-30b7-4515-8239-69d11f7b74ce",
   "metadata": {},
   "outputs": [
    {
     "name": "stdout",
     "output_type": "stream",
     "text": [
      "Kredisi 3 olan CMP1005 kodlu dersin kontenjanı 30 kişidir.\n",
      "Kredisi 4 olan PSY1001 kodlu dersin kontenjanı 75 kişidir.\n",
      "Kredisi 2 olan HUK1005 kodlu dersin kontenjanı 150 kişidir.\n",
      "Kredisi 4 olan SEN2204 kodlu dersin kontenjanı 25 kişidir.\n"
     ]
    }
   ],
   "source": [
    "# Zip kullanarak listeleri birleştirme\n",
    "ders_bilgileri = zip(ders_kodu, kredi, kontenjan)\n",
    "\n",
    "# Sonuçları yazdırma\n",
    "for kod, kredi, kontenjan in ders_bilgileri:\n",
    "    print(f\"Kredisi {kredi} olan {kod} kodlu dersin kontenjanı {kontenjan} kişidir.\")\n"
   ]
  },
  {
   "cell_type": "code",
   "execution_count": 35,
   "id": "cd5c9c10-e321-44c4-9f5d-58ab90b2a8b6",
   "metadata": {},
   "outputs": [],
   "source": [
    "# Görev 8: Aşağıda 2 adet set verilmiştir.Sizden istenilen eğer 1. küme 2. kümeyi \n",
    "# kapsiyor ise ortak elemanlarını eğer kapsamıyor ise 2. kümenin 1. kümeden farkını \n",
    "# yazdıracak fonksiyonu tanımlamanız beklenmektedir."
   ]
  },
  {
   "cell_type": "code",
   "execution_count": 39,
   "id": "6791829a-8e3f-4889-bb55-58aa646f836c",
   "metadata": {},
   "outputs": [
    {
     "name": "stdout",
     "output_type": "stream",
     "text": [
      "{'lambda', 'function', 'miuul', 'qcut'}\n"
     ]
    }
   ],
   "source": [
    "def check_and_print_sets(kume1, kume2):\n",
    "    if kume1.issuperset(kume2):\n",
    "        # 1. küme 2. kümeyi kapsıyorsa, ortak elemanları yazdır\n",
    "        ortak_elemanlar = kume1.intersection(kume2)\n",
    "        print(ortak_elemanlar)\n",
    "    else:\n",
    "        # 1. küme 2. kümeyi kapsamıyorsa, 2. kümenin 1. kümeden farkını yazdır\n",
    "        fark = kume2.difference(kume1)\n",
    "        print(fark)\n",
    "\n",
    "# Küme tanımlamaları\n",
    "kume1 = set([\"data\", \"python\"])\n",
    "kume2 = set([\"data\", \"function\", \"qcut\", \"lambda\", \"python\", \"miuul\"])\n",
    "\n",
    "# Fonksiyonu çağırma\n",
    "check_and_print_sets(kume1, kume2)\n"
   ]
  },
  {
   "cell_type": "code",
   "execution_count": null,
   "id": "2639e40b-7b42-4a93-a4cb-0c13ca8eb450",
   "metadata": {},
   "outputs": [],
   "source": []
  }
 ],
 "metadata": {
  "kernelspec": {
   "display_name": "Python 3 (ipykernel)",
   "language": "python",
   "name": "python3"
  },
  "language_info": {
   "codemirror_mode": {
    "name": "ipython",
    "version": 3
   },
   "file_extension": ".py",
   "mimetype": "text/x-python",
   "name": "python",
   "nbconvert_exporter": "python",
   "pygments_lexer": "ipython3",
   "version": "3.12.4"
  }
 },
 "nbformat": 4,
 "nbformat_minor": 5
}
